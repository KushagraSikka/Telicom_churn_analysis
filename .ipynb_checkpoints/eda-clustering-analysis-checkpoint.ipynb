{
 "cells": [
  {
   "cell_type": "code",
   "execution_count": 2,
   "id": "9200e78e",
   "metadata": {},
   "outputs": [
    {
     "name": "stdout",
     "output_type": "stream",
     "text": [
      "\u001b[33mDEPRECATION: Configuring installation scheme with distutils config files is deprecated and will no longer work in the near future. If you are using a Homebrew or Linuxbrew Python, please see discussion at https://github.com/Homebrew/homebrew-core/issues/76621\u001b[0m\u001b[33m\n",
      "\u001b[0mCollecting seaborn\n",
      "  Downloading seaborn-0.11.2-py3-none-any.whl (292 kB)\n",
      "\u001b[2K     \u001b[90m━━━━━━━━━━━━━━━━━━━━━━━━━━━━━━━━━━━━━\u001b[0m \u001b[32m292.8/292.8 kB\u001b[0m \u001b[31m803.5 kB/s\u001b[0m eta \u001b[36m0:00:00\u001b[0m00:01\u001b[0m00:01\u001b[0m\n",
      "\u001b[?25hRequirement already satisfied: pandas>=0.23 in /opt/homebrew/lib/python3.9/site-packages (from seaborn) (1.4.3)\n",
      "Requirement already satisfied: matplotlib>=2.2 in /opt/homebrew/lib/python3.9/site-packages (from seaborn) (3.5.2)\n",
      "Requirement already satisfied: numpy>=1.15 in /opt/homebrew/lib/python3.9/site-packages (from seaborn) (1.23.1)\n",
      "Requirement already satisfied: scipy>=1.0 in /opt/homebrew/lib/python3.9/site-packages (from seaborn) (1.8.1)\n",
      "Requirement already satisfied: fonttools>=4.22.0 in /opt/homebrew/lib/python3.9/site-packages (from matplotlib>=2.2->seaborn) (4.34.4)\n",
      "Requirement already satisfied: pyparsing>=2.2.1 in /opt/homebrew/lib/python3.9/site-packages (from matplotlib>=2.2->seaborn) (3.0.9)\n",
      "Requirement already satisfied: pillow>=6.2.0 in /opt/homebrew/lib/python3.9/site-packages (from matplotlib>=2.2->seaborn) (9.2.0)\n",
      "Requirement already satisfied: packaging>=20.0 in /opt/homebrew/lib/python3.9/site-packages (from matplotlib>=2.2->seaborn) (21.3)\n",
      "Requirement already satisfied: kiwisolver>=1.0.1 in /opt/homebrew/lib/python3.9/site-packages (from matplotlib>=2.2->seaborn) (1.4.3)\n",
      "Requirement already satisfied: python-dateutil>=2.7 in /opt/homebrew/lib/python3.9/site-packages (from matplotlib>=2.2->seaborn) (2.8.2)\n",
      "Requirement already satisfied: cycler>=0.10 in /opt/homebrew/lib/python3.9/site-packages (from matplotlib>=2.2->seaborn) (0.11.0)\n",
      "Requirement already satisfied: pytz>=2020.1 in /opt/homebrew/lib/python3.9/site-packages (from pandas>=0.23->seaborn) (2022.1)\n",
      "Requirement already satisfied: six>=1.5 in /opt/homebrew/lib/python3.9/site-packages (from python-dateutil>=2.7->matplotlib>=2.2->seaborn) (1.16.0)\n",
      "Installing collected packages: seaborn\n",
      "\u001b[33m  DEPRECATION: Configuring installation scheme with distutils config files is deprecated and will no longer work in the near future. If you are using a Homebrew or Linuxbrew Python, please see discussion at https://github.com/Homebrew/homebrew-core/issues/76621\u001b[0m\u001b[33m\n",
      "\u001b[0m\u001b[33mDEPRECATION: Configuring installation scheme with distutils config files is deprecated and will no longer work in the near future. If you are using a Homebrew or Linuxbrew Python, please see discussion at https://github.com/Homebrew/homebrew-core/issues/76621\u001b[0m\u001b[33m\n",
      "\u001b[0mSuccessfully installed seaborn-0.11.2\n",
      "\n",
      "\u001b[1m[\u001b[0m\u001b[34;49mnotice\u001b[0m\u001b[1;39;49m]\u001b[0m\u001b[39;49m A new release of pip available: \u001b[0m\u001b[31;49m22.1.2\u001b[0m\u001b[39;49m -> \u001b[0m\u001b[32;49m22.2.2\u001b[0m\n",
      "\u001b[1m[\u001b[0m\u001b[34;49mnotice\u001b[0m\u001b[1;39;49m]\u001b[0m\u001b[39;49m To update, run: \u001b[0m\u001b[32;49mpython3.9 -m pip install --upgrade pip\u001b[0m\n",
      "Note: you may need to restart the kernel to use updated packages.\n"
     ]
    }
   ],
   "source": [
    "pip install seaborn"
   ]
  },
  {
   "cell_type": "markdown",
   "id": "67d851eb",
   "metadata": {
    "papermill": {
     "duration": 0.009693,
     "end_time": "2022-08-09T13:33:07.281592",
     "exception": false,
     "start_time": "2022-08-09T13:33:07.271899",
     "status": "completed"
    },
    "tags": []
   },
   "source": [
    "# EAD + Clustering Analysis 🔥🔥🔥\n",
    "\n",
    "### Key Finding: \n",
    "\n",
    "By adopting the **k-means clustering** algorithm (exlcuding the Churn column), the data was able to be grouped into 4 clusters with one cluster clearly stands out with an **extremely high churn rate (98.7%)**."
   ]
  },
  {
   "cell_type": "code",
   "execution_count": 3,
   "id": "9182c917",
   "metadata": {
    "execution": {
     "iopub.execute_input": "2022-08-09T13:33:07.301250Z",
     "iopub.status.busy": "2022-08-09T13:33:07.300708Z",
     "iopub.status.idle": "2022-08-09T13:33:08.497352Z",
     "shell.execute_reply": "2022-08-09T13:33:08.496372Z"
    },
    "papermill": {
     "duration": 1.21018,
     "end_time": "2022-08-09T13:33:08.500371",
     "exception": false,
     "start_time": "2022-08-09T13:33:07.290191",
     "status": "completed"
    },
    "tags": []
   },
   "outputs": [],
   "source": [
    "import numpy as np\n",
    "import pandas as pd\n",
    "\n",
    "import seaborn as sn\n",
    "import matplotlib.pyplot as plt"
   ]
  },
  {
   "cell_type": "markdown",
   "id": "44d40efd",
   "metadata": {
    "papermill": {
     "duration": 0.008415,
     "end_time": "2022-08-09T13:33:08.517894",
     "exception": false,
     "start_time": "2022-08-09T13:33:08.509479",
     "status": "completed"
    },
    "tags": []
   },
   "source": [
    "# Import Data"
   ]
  },
  {
   "cell_type": "code",
   "execution_count": 6,
   "id": "5c86fae1",
   "metadata": {
    "execution": {
     "iopub.execute_input": "2022-08-09T13:33:08.537570Z",
     "iopub.status.busy": "2022-08-09T13:33:08.536700Z",
     "iopub.status.idle": "2022-08-09T13:33:08.632953Z",
     "shell.execute_reply": "2022-08-09T13:33:08.631720Z"
    },
    "papermill": {
     "duration": 0.10908,
     "end_time": "2022-08-09T13:33:08.635708",
     "exception": false,
     "start_time": "2022-08-09T13:33:08.526628",
     "status": "completed"
    },
    "tags": []
   },
   "outputs": [
    {
     "data": {
      "text/html": [
       "<div>\n",
       "<style scoped>\n",
       "    .dataframe tbody tr th:only-of-type {\n",
       "        vertical-align: middle;\n",
       "    }\n",
       "\n",
       "    .dataframe tbody tr th {\n",
       "        vertical-align: top;\n",
       "    }\n",
       "\n",
       "    .dataframe thead th {\n",
       "        text-align: right;\n",
       "    }\n",
       "</style>\n",
       "<table border=\"1\" class=\"dataframe\">\n",
       "  <thead>\n",
       "    <tr style=\"text-align: right;\">\n",
       "      <th></th>\n",
       "      <th>customerID</th>\n",
       "      <th>gender</th>\n",
       "      <th>SeniorCitizen</th>\n",
       "      <th>Partner</th>\n",
       "      <th>Dependents</th>\n",
       "      <th>tenure</th>\n",
       "      <th>PhoneService</th>\n",
       "      <th>MultipleLines</th>\n",
       "      <th>InternetService</th>\n",
       "      <th>OnlineSecurity</th>\n",
       "      <th>...</th>\n",
       "      <th>DeviceProtection</th>\n",
       "      <th>TechSupport</th>\n",
       "      <th>StreamingTV</th>\n",
       "      <th>StreamingMovies</th>\n",
       "      <th>Contract</th>\n",
       "      <th>PaperlessBilling</th>\n",
       "      <th>PaymentMethod</th>\n",
       "      <th>MonthlyCharges</th>\n",
       "      <th>TotalCharges</th>\n",
       "      <th>Churn</th>\n",
       "    </tr>\n",
       "  </thead>\n",
       "  <tbody>\n",
       "    <tr>\n",
       "      <th>0</th>\n",
       "      <td>7590-VHVEG</td>\n",
       "      <td>Female</td>\n",
       "      <td>0</td>\n",
       "      <td>Yes</td>\n",
       "      <td>No</td>\n",
       "      <td>1</td>\n",
       "      <td>No</td>\n",
       "      <td>No phone service</td>\n",
       "      <td>DSL</td>\n",
       "      <td>No</td>\n",
       "      <td>...</td>\n",
       "      <td>No</td>\n",
       "      <td>No</td>\n",
       "      <td>No</td>\n",
       "      <td>No</td>\n",
       "      <td>Month-to-month</td>\n",
       "      <td>Yes</td>\n",
       "      <td>Electronic check</td>\n",
       "      <td>29.85</td>\n",
       "      <td>29.85</td>\n",
       "      <td>No</td>\n",
       "    </tr>\n",
       "    <tr>\n",
       "      <th>1</th>\n",
       "      <td>5575-GNVDE</td>\n",
       "      <td>Male</td>\n",
       "      <td>0</td>\n",
       "      <td>No</td>\n",
       "      <td>No</td>\n",
       "      <td>34</td>\n",
       "      <td>Yes</td>\n",
       "      <td>No</td>\n",
       "      <td>DSL</td>\n",
       "      <td>Yes</td>\n",
       "      <td>...</td>\n",
       "      <td>Yes</td>\n",
       "      <td>No</td>\n",
       "      <td>No</td>\n",
       "      <td>No</td>\n",
       "      <td>One year</td>\n",
       "      <td>No</td>\n",
       "      <td>Mailed check</td>\n",
       "      <td>56.95</td>\n",
       "      <td>1889.5</td>\n",
       "      <td>No</td>\n",
       "    </tr>\n",
       "  </tbody>\n",
       "</table>\n",
       "<p>2 rows × 21 columns</p>\n",
       "</div>"
      ],
      "text/plain": [
       "   customerID  gender  SeniorCitizen Partner Dependents  tenure PhoneService  \\\n",
       "0  7590-VHVEG  Female              0     Yes         No       1           No   \n",
       "1  5575-GNVDE    Male              0      No         No      34          Yes   \n",
       "\n",
       "      MultipleLines InternetService OnlineSecurity  ... DeviceProtection  \\\n",
       "0  No phone service             DSL             No  ...               No   \n",
       "1                No             DSL            Yes  ...              Yes   \n",
       "\n",
       "  TechSupport StreamingTV StreamingMovies        Contract PaperlessBilling  \\\n",
       "0          No          No              No  Month-to-month              Yes   \n",
       "1          No          No              No        One year               No   \n",
       "\n",
       "      PaymentMethod MonthlyCharges  TotalCharges Churn  \n",
       "0  Electronic check          29.85         29.85    No  \n",
       "1      Mailed check          56.95        1889.5    No  \n",
       "\n",
       "[2 rows x 21 columns]"
      ]
     },
     "execution_count": 6,
     "metadata": {},
     "output_type": "execute_result"
    }
   ],
   "source": [
    "df = pd.read_csv('WA_Fn-UseC_-Telco-Customer-Churn.csv')\n",
    "df.head(2)"
   ]
  },
  {
   "cell_type": "code",
   "execution_count": 7,
   "id": "7523e235",
   "metadata": {
    "execution": {
     "iopub.execute_input": "2022-08-09T13:33:08.654899Z",
     "iopub.status.busy": "2022-08-09T13:33:08.654491Z",
     "iopub.status.idle": "2022-08-09T13:33:08.660595Z",
     "shell.execute_reply": "2022-08-09T13:33:08.659713Z"
    },
    "papermill": {
     "duration": 0.018436,
     "end_time": "2022-08-09T13:33:08.663080",
     "exception": false,
     "start_time": "2022-08-09T13:33:08.644644",
     "status": "completed"
    },
    "tags": []
   },
   "outputs": [
    {
     "name": "stdout",
     "output_type": "stream",
     "text": [
      "Number of instances: 7043\n",
      "Number of features: 21\n"
     ]
    }
   ],
   "source": [
    "print(\"Number of instances: %d\" % df.shape[0])\n",
    "print(\"Number of features: %d\" % df.shape[1])"
   ]
  },
  {
   "cell_type": "markdown",
   "id": "53c21301",
   "metadata": {
    "papermill": {
     "duration": 0.008521,
     "end_time": "2022-08-09T13:33:08.680499",
     "exception": false,
     "start_time": "2022-08-09T13:33:08.671978",
     "status": "completed"
    },
    "tags": []
   },
   "source": [
    "# Split Data"
   ]
  },
  {
   "cell_type": "code",
   "execution_count": 8,
   "id": "d3c37d8f",
   "metadata": {
    "execution": {
     "iopub.execute_input": "2022-08-09T13:33:08.700290Z",
     "iopub.status.busy": "2022-08-09T13:33:08.699575Z",
     "iopub.status.idle": "2022-08-09T13:33:08.908775Z",
     "shell.execute_reply": "2022-08-09T13:33:08.907070Z"
    },
    "papermill": {
     "duration": 0.223012,
     "end_time": "2022-08-09T13:33:08.912556",
     "exception": false,
     "start_time": "2022-08-09T13:33:08.689544",
     "status": "completed"
    },
    "tags": []
   },
   "outputs": [
    {
     "name": "stdout",
     "output_type": "stream",
     "text": [
      "5634 1409\n"
     ]
    }
   ],
   "source": [
    "from sklearn.model_selection import train_test_split\n",
    "\n",
    "df_train, df_test = train_test_split(df, test_size=0.2, random_state=0)\n",
    "print(len(df_train), len(df_test))"
   ]
  },
  {
   "cell_type": "markdown",
   "id": "1308f403",
   "metadata": {
    "papermill": {
     "duration": 0.008322,
     "end_time": "2022-08-09T13:33:08.930898",
     "exception": false,
     "start_time": "2022-08-09T13:33:08.922576",
     "status": "completed"
    },
    "tags": []
   },
   "source": [
    "# Data Preprocess"
   ]
  },
  {
   "cell_type": "markdown",
   "id": "19845f08",
   "metadata": {
    "papermill": {
     "duration": 0.0083,
     "end_time": "2022-08-09T13:33:08.947768",
     "exception": false,
     "start_time": "2022-08-09T13:33:08.939468",
     "status": "completed"
    },
    "tags": []
   },
   "source": [
    "1. Convert the column **TotalCharges** from string to numerical\n",
    "2. Replace Yes/No with 1/0 for the column **Churn**"
   ]
  },
  {
   "cell_type": "code",
   "execution_count": 9,
   "id": "50a077fc",
   "metadata": {
    "execution": {
     "iopub.execute_input": "2022-08-09T13:33:08.966649Z",
     "iopub.status.busy": "2022-08-09T13:33:08.966250Z",
     "iopub.status.idle": "2022-08-09T13:33:08.997030Z",
     "shell.execute_reply": "2022-08-09T13:33:08.995737Z"
    },
    "papermill": {
     "duration": 0.043468,
     "end_time": "2022-08-09T13:33:08.999911",
     "exception": false,
     "start_time": "2022-08-09T13:33:08.956443",
     "status": "completed"
    },
    "tags": []
   },
   "outputs": [],
   "source": [
    "df_train.TotalCharges = df_train['TotalCharges'].replace(' ', '0', regex=True)\n",
    "df_train.TotalCharges = pd.to_numeric(df_train.TotalCharges)\n",
    "\n",
    "df_test.TotalCharges = df_test['TotalCharges'].replace(' ', '0', regex=True)\n",
    "df_test.TotalCharges = pd.to_numeric(df_test.TotalCharges)"
   ]
  },
  {
   "cell_type": "code",
   "execution_count": 10,
   "id": "ddb03900",
   "metadata": {
    "execution": {
     "iopub.execute_input": "2022-08-09T13:33:09.019242Z",
     "iopub.status.busy": "2022-08-09T13:33:09.018750Z",
     "iopub.status.idle": "2022-08-09T13:33:09.033278Z",
     "shell.execute_reply": "2022-08-09T13:33:09.031789Z"
    },
    "papermill": {
     "duration": 0.027641,
     "end_time": "2022-08-09T13:33:09.036370",
     "exception": false,
     "start_time": "2022-08-09T13:33:09.008729",
     "status": "completed"
    },
    "tags": []
   },
   "outputs": [],
   "source": [
    "df_train['Churn'] = df_train['Churn'].map({'Yes':1, 'No':0})\n",
    "df_test['Churn'] = df_test['Churn'].map({'Yes':1, 'No':0})"
   ]
  },
  {
   "cell_type": "markdown",
   "id": "71fa2678",
   "metadata": {
    "papermill": {
     "duration": 0.008817,
     "end_time": "2022-08-09T13:33:09.054376",
     "exception": false,
     "start_time": "2022-08-09T13:33:09.045559",
     "status": "completed"
    },
    "tags": []
   },
   "source": [
    "# Data Overview\n",
    "\n",
    "1. Data types\n",
    "2. Missing and duplicated values\n",
    "3. General statistics"
   ]
  },
  {
   "cell_type": "code",
   "execution_count": 11,
   "id": "6a398a88",
   "metadata": {
    "execution": {
     "iopub.execute_input": "2022-08-09T13:33:09.073920Z",
     "iopub.status.busy": "2022-08-09T13:33:09.073490Z",
     "iopub.status.idle": "2022-08-09T13:33:09.101245Z",
     "shell.execute_reply": "2022-08-09T13:33:09.099115Z"
    },
    "papermill": {
     "duration": 0.04157,
     "end_time": "2022-08-09T13:33:09.104810",
     "exception": false,
     "start_time": "2022-08-09T13:33:09.063240",
     "status": "completed"
    },
    "tags": []
   },
   "outputs": [
    {
     "name": "stdout",
     "output_type": "stream",
     "text": [
      "<class 'pandas.core.frame.DataFrame'>\n",
      "RangeIndex: 7043 entries, 0 to 7042\n",
      "Data columns (total 21 columns):\n",
      " #   Column            Non-Null Count  Dtype  \n",
      "---  ------            --------------  -----  \n",
      " 0   customerID        7043 non-null   object \n",
      " 1   gender            7043 non-null   object \n",
      " 2   SeniorCitizen     7043 non-null   int64  \n",
      " 3   Partner           7043 non-null   object \n",
      " 4   Dependents        7043 non-null   object \n",
      " 5   tenure            7043 non-null   int64  \n",
      " 6   PhoneService      7043 non-null   object \n",
      " 7   MultipleLines     7043 non-null   object \n",
      " 8   InternetService   7043 non-null   object \n",
      " 9   OnlineSecurity    7043 non-null   object \n",
      " 10  OnlineBackup      7043 non-null   object \n",
      " 11  DeviceProtection  7043 non-null   object \n",
      " 12  TechSupport       7043 non-null   object \n",
      " 13  StreamingTV       7043 non-null   object \n",
      " 14  StreamingMovies   7043 non-null   object \n",
      " 15  Contract          7043 non-null   object \n",
      " 16  PaperlessBilling  7043 non-null   object \n",
      " 17  PaymentMethod     7043 non-null   object \n",
      " 18  MonthlyCharges    7043 non-null   float64\n",
      " 19  TotalCharges      7043 non-null   object \n",
      " 20  Churn             7043 non-null   object \n",
      "dtypes: float64(1), int64(2), object(18)\n",
      "memory usage: 1.1+ MB\n"
     ]
    }
   ],
   "source": [
    "df.info()"
   ]
  },
  {
   "cell_type": "code",
   "execution_count": 12,
   "id": "341d4346",
   "metadata": {
    "execution": {
     "iopub.execute_input": "2022-08-09T13:33:09.125851Z",
     "iopub.status.busy": "2022-08-09T13:33:09.124493Z",
     "iopub.status.idle": "2022-08-09T13:33:09.140185Z",
     "shell.execute_reply": "2022-08-09T13:33:09.138982Z"
    },
    "papermill": {
     "duration": 0.028607,
     "end_time": "2022-08-09T13:33:09.142841",
     "exception": false,
     "start_time": "2022-08-09T13:33:09.114234",
     "status": "completed"
    },
    "tags": []
   },
   "outputs": [
    {
     "data": {
      "text/plain": [
       "customerID          0\n",
       "gender              0\n",
       "SeniorCitizen       0\n",
       "Partner             0\n",
       "Dependents          0\n",
       "tenure              0\n",
       "PhoneService        0\n",
       "MultipleLines       0\n",
       "InternetService     0\n",
       "OnlineSecurity      0\n",
       "OnlineBackup        0\n",
       "DeviceProtection    0\n",
       "TechSupport         0\n",
       "StreamingTV         0\n",
       "StreamingMovies     0\n",
       "Contract            0\n",
       "PaperlessBilling    0\n",
       "PaymentMethod       0\n",
       "MonthlyCharges      0\n",
       "TotalCharges        0\n",
       "Churn               0\n",
       "dtype: int64"
      ]
     },
     "execution_count": 12,
     "metadata": {},
     "output_type": "execute_result"
    }
   ],
   "source": [
    "df.isnull().sum()"
   ]
  },
  {
   "cell_type": "code",
   "execution_count": 13,
   "id": "ff4dd478",
   "metadata": {
    "execution": {
     "iopub.execute_input": "2022-08-09T13:33:09.163721Z",
     "iopub.status.busy": "2022-08-09T13:33:09.163286Z",
     "iopub.status.idle": "2022-08-09T13:33:09.187564Z",
     "shell.execute_reply": "2022-08-09T13:33:09.186158Z"
    },
    "papermill": {
     "duration": 0.037925,
     "end_time": "2022-08-09T13:33:09.190237",
     "exception": false,
     "start_time": "2022-08-09T13:33:09.152312",
     "status": "completed"
    },
    "tags": []
   },
   "outputs": [
    {
     "data": {
      "text/plain": [
       "0"
      ]
     },
     "execution_count": 13,
     "metadata": {},
     "output_type": "execute_result"
    }
   ],
   "source": [
    "df.duplicated().sum()"
   ]
  },
  {
   "cell_type": "code",
   "execution_count": 14,
   "id": "db04e15d",
   "metadata": {
    "execution": {
     "iopub.execute_input": "2022-08-09T13:33:09.210557Z",
     "iopub.status.busy": "2022-08-09T13:33:09.210128Z",
     "iopub.status.idle": "2022-08-09T13:33:09.233881Z",
     "shell.execute_reply": "2022-08-09T13:33:09.233063Z"
    },
    "papermill": {
     "duration": 0.036721,
     "end_time": "2022-08-09T13:33:09.236102",
     "exception": false,
     "start_time": "2022-08-09T13:33:09.199381",
     "status": "completed"
    },
    "tags": []
   },
   "outputs": [
    {
     "data": {
      "text/html": [
       "<div>\n",
       "<style scoped>\n",
       "    .dataframe tbody tr th:only-of-type {\n",
       "        vertical-align: middle;\n",
       "    }\n",
       "\n",
       "    .dataframe tbody tr th {\n",
       "        vertical-align: top;\n",
       "    }\n",
       "\n",
       "    .dataframe thead th {\n",
       "        text-align: right;\n",
       "    }\n",
       "</style>\n",
       "<table border=\"1\" class=\"dataframe\">\n",
       "  <thead>\n",
       "    <tr style=\"text-align: right;\">\n",
       "      <th></th>\n",
       "      <th>SeniorCitizen</th>\n",
       "      <th>tenure</th>\n",
       "      <th>MonthlyCharges</th>\n",
       "    </tr>\n",
       "  </thead>\n",
       "  <tbody>\n",
       "    <tr>\n",
       "      <th>count</th>\n",
       "      <td>7043.000000</td>\n",
       "      <td>7043.000000</td>\n",
       "      <td>7043.000000</td>\n",
       "    </tr>\n",
       "    <tr>\n",
       "      <th>mean</th>\n",
       "      <td>0.162147</td>\n",
       "      <td>32.371149</td>\n",
       "      <td>64.761692</td>\n",
       "    </tr>\n",
       "    <tr>\n",
       "      <th>std</th>\n",
       "      <td>0.368612</td>\n",
       "      <td>24.559481</td>\n",
       "      <td>30.090047</td>\n",
       "    </tr>\n",
       "    <tr>\n",
       "      <th>min</th>\n",
       "      <td>0.000000</td>\n",
       "      <td>0.000000</td>\n",
       "      <td>18.250000</td>\n",
       "    </tr>\n",
       "    <tr>\n",
       "      <th>25%</th>\n",
       "      <td>0.000000</td>\n",
       "      <td>9.000000</td>\n",
       "      <td>35.500000</td>\n",
       "    </tr>\n",
       "    <tr>\n",
       "      <th>50%</th>\n",
       "      <td>0.000000</td>\n",
       "      <td>29.000000</td>\n",
       "      <td>70.350000</td>\n",
       "    </tr>\n",
       "    <tr>\n",
       "      <th>75%</th>\n",
       "      <td>0.000000</td>\n",
       "      <td>55.000000</td>\n",
       "      <td>89.850000</td>\n",
       "    </tr>\n",
       "    <tr>\n",
       "      <th>max</th>\n",
       "      <td>1.000000</td>\n",
       "      <td>72.000000</td>\n",
       "      <td>118.750000</td>\n",
       "    </tr>\n",
       "  </tbody>\n",
       "</table>\n",
       "</div>"
      ],
      "text/plain": [
       "       SeniorCitizen       tenure  MonthlyCharges\n",
       "count    7043.000000  7043.000000     7043.000000\n",
       "mean        0.162147    32.371149       64.761692\n",
       "std         0.368612    24.559481       30.090047\n",
       "min         0.000000     0.000000       18.250000\n",
       "25%         0.000000     9.000000       35.500000\n",
       "50%         0.000000    29.000000       70.350000\n",
       "75%         0.000000    55.000000       89.850000\n",
       "max         1.000000    72.000000      118.750000"
      ]
     },
     "execution_count": 14,
     "metadata": {},
     "output_type": "execute_result"
    }
   ],
   "source": [
    "df.describe()"
   ]
  },
  {
   "cell_type": "code",
   "execution_count": 15,
   "id": "f168c31b",
   "metadata": {
    "execution": {
     "iopub.execute_input": "2022-08-09T13:33:09.256489Z",
     "iopub.status.busy": "2022-08-09T13:33:09.256050Z",
     "iopub.status.idle": "2022-08-09T13:33:09.321461Z",
     "shell.execute_reply": "2022-08-09T13:33:09.320373Z"
    },
    "papermill": {
     "duration": 0.07814,
     "end_time": "2022-08-09T13:33:09.323672",
     "exception": false,
     "start_time": "2022-08-09T13:33:09.245532",
     "status": "completed"
    },
    "tags": []
   },
   "outputs": [
    {
     "data": {
      "text/html": [
       "<div>\n",
       "<style scoped>\n",
       "    .dataframe tbody tr th:only-of-type {\n",
       "        vertical-align: middle;\n",
       "    }\n",
       "\n",
       "    .dataframe tbody tr th {\n",
       "        vertical-align: top;\n",
       "    }\n",
       "\n",
       "    .dataframe thead th {\n",
       "        text-align: right;\n",
       "    }\n",
       "</style>\n",
       "<table border=\"1\" class=\"dataframe\">\n",
       "  <thead>\n",
       "    <tr style=\"text-align: right;\">\n",
       "      <th></th>\n",
       "      <th>customerID</th>\n",
       "      <th>gender</th>\n",
       "      <th>Partner</th>\n",
       "      <th>Dependents</th>\n",
       "      <th>PhoneService</th>\n",
       "      <th>MultipleLines</th>\n",
       "      <th>InternetService</th>\n",
       "      <th>OnlineSecurity</th>\n",
       "      <th>OnlineBackup</th>\n",
       "      <th>DeviceProtection</th>\n",
       "      <th>TechSupport</th>\n",
       "      <th>StreamingTV</th>\n",
       "      <th>StreamingMovies</th>\n",
       "      <th>Contract</th>\n",
       "      <th>PaperlessBilling</th>\n",
       "      <th>PaymentMethod</th>\n",
       "      <th>TotalCharges</th>\n",
       "      <th>Churn</th>\n",
       "    </tr>\n",
       "  </thead>\n",
       "  <tbody>\n",
       "    <tr>\n",
       "      <th>count</th>\n",
       "      <td>7043</td>\n",
       "      <td>7043</td>\n",
       "      <td>7043</td>\n",
       "      <td>7043</td>\n",
       "      <td>7043</td>\n",
       "      <td>7043</td>\n",
       "      <td>7043</td>\n",
       "      <td>7043</td>\n",
       "      <td>7043</td>\n",
       "      <td>7043</td>\n",
       "      <td>7043</td>\n",
       "      <td>7043</td>\n",
       "      <td>7043</td>\n",
       "      <td>7043</td>\n",
       "      <td>7043</td>\n",
       "      <td>7043</td>\n",
       "      <td>7043</td>\n",
       "      <td>7043</td>\n",
       "    </tr>\n",
       "    <tr>\n",
       "      <th>unique</th>\n",
       "      <td>7043</td>\n",
       "      <td>2</td>\n",
       "      <td>2</td>\n",
       "      <td>2</td>\n",
       "      <td>2</td>\n",
       "      <td>3</td>\n",
       "      <td>3</td>\n",
       "      <td>3</td>\n",
       "      <td>3</td>\n",
       "      <td>3</td>\n",
       "      <td>3</td>\n",
       "      <td>3</td>\n",
       "      <td>3</td>\n",
       "      <td>3</td>\n",
       "      <td>2</td>\n",
       "      <td>4</td>\n",
       "      <td>6531</td>\n",
       "      <td>2</td>\n",
       "    </tr>\n",
       "    <tr>\n",
       "      <th>top</th>\n",
       "      <td>7590-VHVEG</td>\n",
       "      <td>Male</td>\n",
       "      <td>No</td>\n",
       "      <td>No</td>\n",
       "      <td>Yes</td>\n",
       "      <td>No</td>\n",
       "      <td>Fiber optic</td>\n",
       "      <td>No</td>\n",
       "      <td>No</td>\n",
       "      <td>No</td>\n",
       "      <td>No</td>\n",
       "      <td>No</td>\n",
       "      <td>No</td>\n",
       "      <td>Month-to-month</td>\n",
       "      <td>Yes</td>\n",
       "      <td>Electronic check</td>\n",
       "      <td></td>\n",
       "      <td>No</td>\n",
       "    </tr>\n",
       "    <tr>\n",
       "      <th>freq</th>\n",
       "      <td>1</td>\n",
       "      <td>3555</td>\n",
       "      <td>3641</td>\n",
       "      <td>4933</td>\n",
       "      <td>6361</td>\n",
       "      <td>3390</td>\n",
       "      <td>3096</td>\n",
       "      <td>3498</td>\n",
       "      <td>3088</td>\n",
       "      <td>3095</td>\n",
       "      <td>3473</td>\n",
       "      <td>2810</td>\n",
       "      <td>2785</td>\n",
       "      <td>3875</td>\n",
       "      <td>4171</td>\n",
       "      <td>2365</td>\n",
       "      <td>11</td>\n",
       "      <td>5174</td>\n",
       "    </tr>\n",
       "  </tbody>\n",
       "</table>\n",
       "</div>"
      ],
      "text/plain": [
       "        customerID gender Partner Dependents PhoneService MultipleLines  \\\n",
       "count         7043   7043    7043       7043         7043          7043   \n",
       "unique        7043      2       2          2            2             3   \n",
       "top     7590-VHVEG   Male      No         No          Yes            No   \n",
       "freq             1   3555    3641       4933         6361          3390   \n",
       "\n",
       "       InternetService OnlineSecurity OnlineBackup DeviceProtection  \\\n",
       "count             7043           7043         7043             7043   \n",
       "unique               3              3            3                3   \n",
       "top        Fiber optic             No           No               No   \n",
       "freq              3096           3498         3088             3095   \n",
       "\n",
       "       TechSupport StreamingTV StreamingMovies        Contract  \\\n",
       "count         7043        7043            7043            7043   \n",
       "unique           3           3               3               3   \n",
       "top             No          No              No  Month-to-month   \n",
       "freq          3473        2810            2785            3875   \n",
       "\n",
       "       PaperlessBilling     PaymentMethod TotalCharges Churn  \n",
       "count              7043              7043         7043  7043  \n",
       "unique                2                 4         6531     2  \n",
       "top                 Yes  Electronic check                 No  \n",
       "freq               4171              2365           11  5174  "
      ]
     },
     "execution_count": 15,
     "metadata": {},
     "output_type": "execute_result"
    }
   ],
   "source": [
    "df.describe(include=['O'])"
   ]
  },
  {
   "cell_type": "markdown",
   "id": "398e0bd7",
   "metadata": {
    "papermill": {
     "duration": 0.00934,
     "end_time": "2022-08-09T13:33:09.342817",
     "exception": false,
     "start_time": "2022-08-09T13:33:09.333477",
     "status": "completed"
    },
    "tags": []
   },
   "source": [
    "# Exploratory Analysis\n",
    "\n",
    "1. **Output Variable**\n",
    "2. **Demographic Information**: gender,SeniorCitizen,Partner,Dependents\n",
    "3. **Service Information**: PhoneService, MultipleLines, InternetService, OnlineSecurity, OnlineBackup, DeviceProtection, TechSupport, StreamingTV, StreamingMovies\n",
    "4. **Account Information**: tenure, Contract, PaperlessBilling, PaymentMethod, MonthlyCharges, TotalCharges"
   ]
  },
  {
   "cell_type": "markdown",
   "id": "d6e542c4",
   "metadata": {
    "papermill": {
     "duration": 0.009253,
     "end_time": "2022-08-09T13:33:09.361715",
     "exception": false,
     "start_time": "2022-08-09T13:33:09.352462",
     "status": "completed"
    },
    "tags": []
   },
   "source": [
    "## Output Variables"
   ]
  },
  {
   "cell_type": "code",
   "execution_count": 16,
   "id": "478b816d",
   "metadata": {
    "execution": {
     "iopub.execute_input": "2022-08-09T13:33:09.382900Z",
     "iopub.status.busy": "2022-08-09T13:33:09.382494Z",
     "iopub.status.idle": "2022-08-09T13:33:09.594900Z",
     "shell.execute_reply": "2022-08-09T13:33:09.593173Z"
    },
    "papermill": {
     "duration": 0.226342,
     "end_time": "2022-08-09T13:33:09.597660",
     "exception": false,
     "start_time": "2022-08-09T13:33:09.371318",
     "status": "completed"
    },
    "tags": []
   },
   "outputs": [
    {
     "name": "stdout",
     "output_type": "stream",
     "text": [
      "Percentage of positive churn outcome: 0.26641817536386225\n"
     ]
    },
    {
     "data": {
      "image/png": "[encoded data removed]",
      "text/plain": [
       "<Figure size 432x288 with 1 Axes>"
      ]
     },
     "metadata": {
      "needs_background": "light"
     },
     "output_type": "display_data"
    }
   ],
   "source": [
    "print(f\"Percentage of positive churn outcome: {df_train['Churn'].sum()/len(df_train)}\")\n",
    "\n",
    "sn.countplot(x=df['Churn'])\n",
    "plt.title('Churn')\n",
    "plt.show()"
   ]
  },
  {
   "cell_type": "markdown",
   "id": "f249b6ce",
   "metadata": {
    "papermill": {
     "duration": 0.010215,
     "end_time": "2022-08-09T13:33:09.617979",
     "exception": false,
     "start_time": "2022-08-09T13:33:09.607764",
     "status": "completed"
    },
    "tags": []
   },
   "source": [
    "## Demographic Information"
   ]
  },
  {
   "cell_type": "code",
   "execution_count": 17,
   "id": "09d569f0",
   "metadata": {
    "execution": {
     "iopub.execute_input": "2022-08-09T13:33:09.639669Z",
     "iopub.status.busy": "2022-08-09T13:33:09.639281Z",
     "iopub.status.idle": "2022-08-09T13:33:09.686685Z",
     "shell.execute_reply": "2022-08-09T13:33:09.685484Z"
    },
    "papermill": {
     "duration": 0.061378,
     "end_time": "2022-08-09T13:33:09.689330",
     "exception": false,
     "start_time": "2022-08-09T13:33:09.627952",
     "status": "completed"
    },
    "tags": []
   },
   "outputs": [
    {
     "data": {
      "text/html": [
       "<div>\n",
       "<style scoped>\n",
       "    .dataframe tbody tr th:only-of-type {\n",
       "        vertical-align: middle;\n",
       "    }\n",
       "\n",
       "    .dataframe tbody tr th {\n",
       "        vertical-align: top;\n",
       "    }\n",
       "\n",
       "    .dataframe thead th {\n",
       "        text-align: right;\n",
       "    }\n",
       "</style>\n",
       "<table border=\"1\" class=\"dataframe\">\n",
       "  <thead>\n",
       "    <tr style=\"text-align: right;\">\n",
       "      <th></th>\n",
       "      <th>gender</th>\n",
       "      <th>Churn</th>\n",
       "    </tr>\n",
       "  </thead>\n",
       "  <tbody>\n",
       "    <tr>\n",
       "      <th>0</th>\n",
       "      <td>Female</td>\n",
       "      <td>0.272985</td>\n",
       "    </tr>\n",
       "    <tr>\n",
       "      <th>1</th>\n",
       "      <td>Male</td>\n",
       "      <td>0.259851</td>\n",
       "    </tr>\n",
       "  </tbody>\n",
       "</table>\n",
       "</div>"
      ],
      "text/plain": [
       "   gender     Churn\n",
       "0  Female  0.272985\n",
       "1    Male  0.259851"
      ]
     },
     "metadata": {},
     "output_type": "display_data"
    },
    {
     "data": {
      "text/html": [
       "<div>\n",
       "<style scoped>\n",
       "    .dataframe tbody tr th:only-of-type {\n",
       "        vertical-align: middle;\n",
       "    }\n",
       "\n",
       "    .dataframe tbody tr th {\n",
       "        vertical-align: top;\n",
       "    }\n",
       "\n",
       "    .dataframe thead th {\n",
       "        text-align: right;\n",
       "    }\n",
       "</style>\n",
       "<table border=\"1\" class=\"dataframe\">\n",
       "  <thead>\n",
       "    <tr style=\"text-align: right;\">\n",
       "      <th></th>\n",
       "      <th>SeniorCitizen</th>\n",
       "      <th>Churn</th>\n",
       "    </tr>\n",
       "  </thead>\n",
       "  <tbody>\n",
       "    <tr>\n",
       "      <th>1</th>\n",
       "      <td>1</td>\n",
       "      <td>0.418401</td>\n",
       "    </tr>\n",
       "    <tr>\n",
       "      <th>0</th>\n",
       "      <td>0</td>\n",
       "      <td>0.237026</td>\n",
       "    </tr>\n",
       "  </tbody>\n",
       "</table>\n",
       "</div>"
      ],
      "text/plain": [
       "   SeniorCitizen     Churn\n",
       "1              1  0.418401\n",
       "0              0  0.237026"
      ]
     },
     "metadata": {},
     "output_type": "display_data"
    },
    {
     "data": {
      "text/html": [
       "<div>\n",
       "<style scoped>\n",
       "    .dataframe tbody tr th:only-of-type {\n",
       "        vertical-align: middle;\n",
       "    }\n",
       "\n",
       "    .dataframe tbody tr th {\n",
       "        vertical-align: top;\n",
       "    }\n",
       "\n",
       "    .dataframe thead th {\n",
       "        text-align: right;\n",
       "    }\n",
       "</style>\n",
       "<table border=\"1\" class=\"dataframe\">\n",
       "  <thead>\n",
       "    <tr style=\"text-align: right;\">\n",
       "      <th></th>\n",
       "      <th>Partner</th>\n",
       "      <th>Churn</th>\n",
       "    </tr>\n",
       "  </thead>\n",
       "  <tbody>\n",
       "    <tr>\n",
       "      <th>0</th>\n",
       "      <td>No</td>\n",
       "      <td>0.330581</td>\n",
       "    </tr>\n",
       "    <tr>\n",
       "      <th>1</th>\n",
       "      <td>Yes</td>\n",
       "      <td>0.198020</td>\n",
       "    </tr>\n",
       "  </tbody>\n",
       "</table>\n",
       "</div>"
      ],
      "text/plain": [
       "  Partner     Churn\n",
       "0      No  0.330581\n",
       "1     Yes  0.198020"
      ]
     },
     "metadata": {},
     "output_type": "display_data"
    },
    {
     "data": {
      "text/html": [
       "<div>\n",
       "<style scoped>\n",
       "    .dataframe tbody tr th:only-of-type {\n",
       "        vertical-align: middle;\n",
       "    }\n",
       "\n",
       "    .dataframe tbody tr th {\n",
       "        vertical-align: top;\n",
       "    }\n",
       "\n",
       "    .dataframe thead th {\n",
       "        text-align: right;\n",
       "    }\n",
       "</style>\n",
       "<table border=\"1\" class=\"dataframe\">\n",
       "  <thead>\n",
       "    <tr style=\"text-align: right;\">\n",
       "      <th></th>\n",
       "      <th>Dependents</th>\n",
       "      <th>Churn</th>\n",
       "    </tr>\n",
       "  </thead>\n",
       "  <tbody>\n",
       "    <tr>\n",
       "      <th>0</th>\n",
       "      <td>No</td>\n",
       "      <td>0.315016</td>\n",
       "    </tr>\n",
       "    <tr>\n",
       "      <th>1</th>\n",
       "      <td>Yes</td>\n",
       "      <td>0.152522</td>\n",
       "    </tr>\n",
       "  </tbody>\n",
       "</table>\n",
       "</div>"
      ],
      "text/plain": [
       "  Dependents     Churn\n",
       "0         No  0.315016\n",
       "1        Yes  0.152522"
      ]
     },
     "metadata": {},
     "output_type": "display_data"
    }
   ],
   "source": [
    "demo_features = ['gender','SeniorCitizen','Partner','Dependents']\n",
    "\n",
    "for feature in demo_features:\n",
    "    cross_table = df_train[[feature,'Churn']].groupby([feature], as_index=False).mean().sort_values(by='Churn', ascending=False)\n",
    "    display(cross_table)"
   ]
  },
  {
   "cell_type": "code",
   "execution_count": 18,
   "id": "70687b92",
   "metadata": {
    "execution": {
     "iopub.execute_input": "2022-08-09T13:33:09.713260Z",
     "iopub.status.busy": "2022-08-09T13:33:09.712063Z",
     "iopub.status.idle": "2022-08-09T13:33:10.368161Z",
     "shell.execute_reply": "2022-08-09T13:33:10.367250Z"
    },
    "papermill": {
     "duration": 0.670875,
     "end_time": "2022-08-09T13:33:10.370990",
     "exception": false,
     "start_time": "2022-08-09T13:33:09.700115",
     "status": "completed"
    },
    "tags": []
   },
   "outputs": [
    {
     "data": {
      "image/png": "[encoded data removed]",
      "text/plain": [
       "<Figure size 720x576 with 4 Axes>"
      ]
     },
     "metadata": {
      "needs_background": "light"
     },
     "output_type": "display_data"
    }
   ],
   "source": [
    "fig, axes = plt.subplots(nrows=2, ncols=2, figsize=(10,8))\n",
    "\n",
    "sn.countplot(x=\"gender\", hue=\"Churn\", data=df_train, ax=axes[0,0])\n",
    "sn.countplot(x=\"SeniorCitizen\", hue=\"Churn\", data=df_train, ax=axes[0,1])\n",
    "sn.countplot(x=\"Partner\", hue=\"Churn\", data=df_train, ax=axes[1,0])\n",
    "sn.countplot(x=\"Dependents\", hue=\"Churn\", data=df_train, ax=axes[1,1])\n",
    "        \n",
    "plt.tight_layout()\n",
    "plt.show()"
   ]
  },
  {
   "cell_type": "markdown",
   "id": "fd107cfc",
   "metadata": {
    "papermill": {
     "duration": 0.011174,
     "end_time": "2022-08-09T13:33:10.393896",
     "exception": false,
     "start_time": "2022-08-09T13:33:10.382722",
     "status": "completed"
    },
    "tags": []
   },
   "source": [
    "## Service Information"
   ]
  },
  {
   "cell_type": "code",
   "execution_count": 19,
   "id": "6a376920",
   "metadata": {
    "execution": {
     "iopub.execute_input": "2022-08-09T13:33:10.417979Z",
     "iopub.status.busy": "2022-08-09T13:33:10.417356Z",
     "iopub.status.idle": "2022-08-09T13:33:10.517231Z",
     "shell.execute_reply": "2022-08-09T13:33:10.516078Z"
    },
    "papermill": {
     "duration": 0.114937,
     "end_time": "2022-08-09T13:33:10.519838",
     "exception": false,
     "start_time": "2022-08-09T13:33:10.404901",
     "status": "completed"
    },
    "tags": []
   },
   "outputs": [
    {
     "data": {
      "text/html": [
       "<div>\n",
       "<style scoped>\n",
       "    .dataframe tbody tr th:only-of-type {\n",
       "        vertical-align: middle;\n",
       "    }\n",
       "\n",
       "    .dataframe tbody tr th {\n",
       "        vertical-align: top;\n",
       "    }\n",
       "\n",
       "    .dataframe thead th {\n",
       "        text-align: right;\n",
       "    }\n",
       "</style>\n",
       "<table border=\"1\" class=\"dataframe\">\n",
       "  <thead>\n",
       "    <tr style=\"text-align: right;\">\n",
       "      <th></th>\n",
       "      <th>PhoneService</th>\n",
       "      <th>Churn</th>\n",
       "    </tr>\n",
       "  </thead>\n",
       "  <tbody>\n",
       "    <tr>\n",
       "      <th>1</th>\n",
       "      <td>Yes</td>\n",
       "      <td>0.269049</td>\n",
       "    </tr>\n",
       "    <tr>\n",
       "      <th>0</th>\n",
       "      <td>No</td>\n",
       "      <td>0.241697</td>\n",
       "    </tr>\n",
       "  </tbody>\n",
       "</table>\n",
       "</div>"
      ],
      "text/plain": [
       "  PhoneService     Churn\n",
       "1          Yes  0.269049\n",
       "0           No  0.241697"
      ]
     },
     "metadata": {},
     "output_type": "display_data"
    },
    {
     "data": {
      "text/html": [
       "<div>\n",
       "<style scoped>\n",
       "    .dataframe tbody tr th:only-of-type {\n",
       "        vertical-align: middle;\n",
       "    }\n",
       "\n",
       "    .dataframe tbody tr th {\n",
       "        vertical-align: top;\n",
       "    }\n",
       "\n",
       "    .dataframe thead th {\n",
       "        text-align: right;\n",
       "    }\n",
       "</style>\n",
       "<table border=\"1\" class=\"dataframe\">\n",
       "  <thead>\n",
       "    <tr style=\"text-align: right;\">\n",
       "      <th></th>\n",
       "      <th>MultipleLines</th>\n",
       "      <th>Churn</th>\n",
       "    </tr>\n",
       "  </thead>\n",
       "  <tbody>\n",
       "    <tr>\n",
       "      <th>2</th>\n",
       "      <td>Yes</td>\n",
       "      <td>0.289629</td>\n",
       "    </tr>\n",
       "    <tr>\n",
       "      <th>0</th>\n",
       "      <td>No</td>\n",
       "      <td>0.251103</td>\n",
       "    </tr>\n",
       "    <tr>\n",
       "      <th>1</th>\n",
       "      <td>No phone service</td>\n",
       "      <td>0.241697</td>\n",
       "    </tr>\n",
       "  </tbody>\n",
       "</table>\n",
       "</div>"
      ],
      "text/plain": [
       "      MultipleLines     Churn\n",
       "2               Yes  0.289629\n",
       "0                No  0.251103\n",
       "1  No phone service  0.241697"
      ]
     },
     "metadata": {},
     "output_type": "display_data"
    },
    {
     "data": {
      "text/html": [
       "<div>\n",
       "<style scoped>\n",
       "    .dataframe tbody tr th:only-of-type {\n",
       "        vertical-align: middle;\n",
       "    }\n",
       "\n",
       "    .dataframe tbody tr th {\n",
       "        vertical-align: top;\n",
       "    }\n",
       "\n",
       "    .dataframe thead th {\n",
       "        text-align: right;\n",
       "    }\n",
       "</style>\n",
       "<table border=\"1\" class=\"dataframe\">\n",
       "  <thead>\n",
       "    <tr style=\"text-align: right;\">\n",
       "      <th></th>\n",
       "      <th>InternetService</th>\n",
       "      <th>Churn</th>\n",
       "    </tr>\n",
       "  </thead>\n",
       "  <tbody>\n",
       "    <tr>\n",
       "      <th>1</th>\n",
       "      <td>Fiber optic</td>\n",
       "      <td>0.419952</td>\n",
       "    </tr>\n",
       "    <tr>\n",
       "      <th>0</th>\n",
       "      <td>DSL</td>\n",
       "      <td>0.187435</td>\n",
       "    </tr>\n",
       "    <tr>\n",
       "      <th>2</th>\n",
       "      <td>No</td>\n",
       "      <td>0.078560</td>\n",
       "    </tr>\n",
       "  </tbody>\n",
       "</table>\n",
       "</div>"
      ],
      "text/plain": [
       "  InternetService     Churn\n",
       "1     Fiber optic  0.419952\n",
       "0             DSL  0.187435\n",
       "2              No  0.078560"
      ]
     },
     "metadata": {},
     "output_type": "display_data"
    },
    {
     "data": {
      "text/html": [
       "<div>\n",
       "<style scoped>\n",
       "    .dataframe tbody tr th:only-of-type {\n",
       "        vertical-align: middle;\n",
       "    }\n",
       "\n",
       "    .dataframe tbody tr th {\n",
       "        vertical-align: top;\n",
       "    }\n",
       "\n",
       "    .dataframe thead th {\n",
       "        text-align: right;\n",
       "    }\n",
       "</style>\n",
       "<table border=\"1\" class=\"dataframe\">\n",
       "  <thead>\n",
       "    <tr style=\"text-align: right;\">\n",
       "      <th></th>\n",
       "      <th>OnlineSecurity</th>\n",
       "      <th>Churn</th>\n",
       "    </tr>\n",
       "  </thead>\n",
       "  <tbody>\n",
       "    <tr>\n",
       "      <th>0</th>\n",
       "      <td>No</td>\n",
       "      <td>0.417114</td>\n",
       "    </tr>\n",
       "    <tr>\n",
       "      <th>2</th>\n",
       "      <td>Yes</td>\n",
       "      <td>0.148240</td>\n",
       "    </tr>\n",
       "    <tr>\n",
       "      <th>1</th>\n",
       "      <td>No internet service</td>\n",
       "      <td>0.078560</td>\n",
       "    </tr>\n",
       "  </tbody>\n",
       "</table>\n",
       "</div>"
      ],
      "text/plain": [
       "        OnlineSecurity     Churn\n",
       "0                   No  0.417114\n",
       "2                  Yes  0.148240\n",
       "1  No internet service  0.078560"
      ]
     },
     "metadata": {},
     "output_type": "display_data"
    },
    {
     "data": {
      "text/html": [
       "<div>\n",
       "<style scoped>\n",
       "    .dataframe tbody tr th:only-of-type {\n",
       "        vertical-align: middle;\n",
       "    }\n",
       "\n",
       "    .dataframe tbody tr th {\n",
       "        vertical-align: top;\n",
       "    }\n",
       "\n",
       "    .dataframe thead th {\n",
       "        text-align: right;\n",
       "    }\n",
       "</style>\n",
       "<table border=\"1\" class=\"dataframe\">\n",
       "  <thead>\n",
       "    <tr style=\"text-align: right;\">\n",
       "      <th></th>\n",
       "      <th>OnlineBackup</th>\n",
       "      <th>Churn</th>\n",
       "    </tr>\n",
       "  </thead>\n",
       "  <tbody>\n",
       "    <tr>\n",
       "      <th>0</th>\n",
       "      <td>No</td>\n",
       "      <td>0.409183</td>\n",
       "    </tr>\n",
       "    <tr>\n",
       "      <th>2</th>\n",
       "      <td>Yes</td>\n",
       "      <td>0.203998</td>\n",
       "    </tr>\n",
       "    <tr>\n",
       "      <th>1</th>\n",
       "      <td>No internet service</td>\n",
       "      <td>0.078560</td>\n",
       "    </tr>\n",
       "  </tbody>\n",
       "</table>\n",
       "</div>"
      ],
      "text/plain": [
       "          OnlineBackup     Churn\n",
       "0                   No  0.409183\n",
       "2                  Yes  0.203998\n",
       "1  No internet service  0.078560"
      ]
     },
     "metadata": {},
     "output_type": "display_data"
    },
    {
     "data": {
      "text/html": [
       "<div>\n",
       "<style scoped>\n",
       "    .dataframe tbody tr th:only-of-type {\n",
       "        vertical-align: middle;\n",
       "    }\n",
       "\n",
       "    .dataframe tbody tr th {\n",
       "        vertical-align: top;\n",
       "    }\n",
       "\n",
       "    .dataframe thead th {\n",
       "        text-align: right;\n",
       "    }\n",
       "</style>\n",
       "<table border=\"1\" class=\"dataframe\">\n",
       "  <thead>\n",
       "    <tr style=\"text-align: right;\">\n",
       "      <th></th>\n",
       "      <th>DeviceProtection</th>\n",
       "      <th>Churn</th>\n",
       "    </tr>\n",
       "  </thead>\n",
       "  <tbody>\n",
       "    <tr>\n",
       "      <th>0</th>\n",
       "      <td>No</td>\n",
       "      <td>0.392799</td>\n",
       "    </tr>\n",
       "    <tr>\n",
       "      <th>2</th>\n",
       "      <td>Yes</td>\n",
       "      <td>0.223711</td>\n",
       "    </tr>\n",
       "    <tr>\n",
       "      <th>1</th>\n",
       "      <td>No internet service</td>\n",
       "      <td>0.078560</td>\n",
       "    </tr>\n",
       "  </tbody>\n",
       "</table>\n",
       "</div>"
      ],
      "text/plain": [
       "      DeviceProtection     Churn\n",
       "0                   No  0.392799\n",
       "2                  Yes  0.223711\n",
       "1  No internet service  0.078560"
      ]
     },
     "metadata": {},
     "output_type": "display_data"
    },
    {
     "data": {
      "text/html": [
       "<div>\n",
       "<style scoped>\n",
       "    .dataframe tbody tr th:only-of-type {\n",
       "        vertical-align: middle;\n",
       "    }\n",
       "\n",
       "    .dataframe tbody tr th {\n",
       "        vertical-align: top;\n",
       "    }\n",
       "\n",
       "    .dataframe thead th {\n",
       "        text-align: right;\n",
       "    }\n",
       "</style>\n",
       "<table border=\"1\" class=\"dataframe\">\n",
       "  <thead>\n",
       "    <tr style=\"text-align: right;\">\n",
       "      <th></th>\n",
       "      <th>TechSupport</th>\n",
       "      <th>Churn</th>\n",
       "    </tr>\n",
       "  </thead>\n",
       "  <tbody>\n",
       "    <tr>\n",
       "      <th>0</th>\n",
       "      <td>No</td>\n",
       "      <td>0.416488</td>\n",
       "    </tr>\n",
       "    <tr>\n",
       "      <th>2</th>\n",
       "      <td>Yes</td>\n",
       "      <td>0.147826</td>\n",
       "    </tr>\n",
       "    <tr>\n",
       "      <th>1</th>\n",
       "      <td>No internet service</td>\n",
       "      <td>0.078560</td>\n",
       "    </tr>\n",
       "  </tbody>\n",
       "</table>\n",
       "</div>"
      ],
      "text/plain": [
       "           TechSupport     Churn\n",
       "0                   No  0.416488\n",
       "2                  Yes  0.147826\n",
       "1  No internet service  0.078560"
      ]
     },
     "metadata": {},
     "output_type": "display_data"
    },
    {
     "data": {
      "text/html": [
       "<div>\n",
       "<style scoped>\n",
       "    .dataframe tbody tr th:only-of-type {\n",
       "        vertical-align: middle;\n",
       "    }\n",
       "\n",
       "    .dataframe tbody tr th {\n",
       "        vertical-align: top;\n",
       "    }\n",
       "\n",
       "    .dataframe thead th {\n",
       "        text-align: right;\n",
       "    }\n",
       "</style>\n",
       "<table border=\"1\" class=\"dataframe\">\n",
       "  <thead>\n",
       "    <tr style=\"text-align: right;\">\n",
       "      <th></th>\n",
       "      <th>StreamingTV</th>\n",
       "      <th>Churn</th>\n",
       "    </tr>\n",
       "  </thead>\n",
       "  <tbody>\n",
       "    <tr>\n",
       "      <th>0</th>\n",
       "      <td>No</td>\n",
       "      <td>0.334531</td>\n",
       "    </tr>\n",
       "    <tr>\n",
       "      <th>2</th>\n",
       "      <td>Yes</td>\n",
       "      <td>0.302059</td>\n",
       "    </tr>\n",
       "    <tr>\n",
       "      <th>1</th>\n",
       "      <td>No internet service</td>\n",
       "      <td>0.078560</td>\n",
       "    </tr>\n",
       "  </tbody>\n",
       "</table>\n",
       "</div>"
      ],
      "text/plain": [
       "           StreamingTV     Churn\n",
       "0                   No  0.334531\n",
       "2                  Yes  0.302059\n",
       "1  No internet service  0.078560"
      ]
     },
     "metadata": {},
     "output_type": "display_data"
    },
    {
     "data": {
      "text/html": [
       "<div>\n",
       "<style scoped>\n",
       "    .dataframe tbody tr th:only-of-type {\n",
       "        vertical-align: middle;\n",
       "    }\n",
       "\n",
       "    .dataframe tbody tr th {\n",
       "        vertical-align: top;\n",
       "    }\n",
       "\n",
       "    .dataframe thead th {\n",
       "        text-align: right;\n",
       "    }\n",
       "</style>\n",
       "<table border=\"1\" class=\"dataframe\">\n",
       "  <thead>\n",
       "    <tr style=\"text-align: right;\">\n",
       "      <th></th>\n",
       "      <th>StreamingMovies</th>\n",
       "      <th>Churn</th>\n",
       "    </tr>\n",
       "  </thead>\n",
       "  <tbody>\n",
       "    <tr>\n",
       "      <th>0</th>\n",
       "      <td>No</td>\n",
       "      <td>0.342638</td>\n",
       "    </tr>\n",
       "    <tr>\n",
       "      <th>2</th>\n",
       "      <td>Yes</td>\n",
       "      <td>0.293930</td>\n",
       "    </tr>\n",
       "    <tr>\n",
       "      <th>1</th>\n",
       "      <td>No internet service</td>\n",
       "      <td>0.078560</td>\n",
       "    </tr>\n",
       "  </tbody>\n",
       "</table>\n",
       "</div>"
      ],
      "text/plain": [
       "       StreamingMovies     Churn\n",
       "0                   No  0.342638\n",
       "2                  Yes  0.293930\n",
       "1  No internet service  0.078560"
      ]
     },
     "metadata": {},
     "output_type": "display_data"
    }
   ],
   "source": [
    "service_features = ['PhoneService','MultipleLines','InternetService','OnlineSecurity',\n",
    "                    'OnlineBackup','DeviceProtection','TechSupport','StreamingTV','StreamingMovies']\n",
    "\n",
    "for feature in service_features:\n",
    "    cross_table = df_train[[feature,'Churn']].groupby([feature], as_index=False).mean().sort_values(by='Churn', ascending=False)\n",
    "    display(cross_table)"
   ]
  },
  {
   "cell_type": "code",
   "execution_count": 20,
   "id": "f51f12c2",
   "metadata": {
    "execution": {
     "iopub.execute_input": "2022-08-09T13:33:10.547169Z",
     "iopub.status.busy": "2022-08-09T13:33:10.546757Z",
     "iopub.status.idle": "2022-08-09T13:33:12.024975Z",
     "shell.execute_reply": "2022-08-09T13:33:12.023770Z"
    },
    "papermill": {
     "duration": 1.495027,
     "end_time": "2022-08-09T13:33:12.027640",
     "exception": false,
     "start_time": "2022-08-09T13:33:10.532613",
     "status": "completed"
    },
    "tags": []
   },
   "outputs": [
    {
     "data": {
      "image/png": "[encoded data removed]",
      "text/plain": [
       "<Figure size 1008x864 with 9 Axes>"
      ]
     },
     "metadata": {
      "needs_background": "light"
     },
     "output_type": "display_data"
    }
   ],
   "source": [
    "fig, axes = plt.subplots(nrows=3, ncols=3, figsize=(14,12))\n",
    "\n",
    "sn.countplot(x=\"PhoneService\", hue=\"Churn\", data=df, ax=axes[0,0])\n",
    "sn.countplot(x=\"MultipleLines\", hue=\"Churn\", data=df, ax=axes[0,1])\n",
    "sn.countplot(x=\"InternetService\", hue=\"Churn\", data=df, ax=axes[0,2])\n",
    "sn.countplot(x=\"OnlineSecurity\", hue=\"Churn\", data=df, ax=axes[1,0])\n",
    "sn.countplot(x=\"OnlineBackup\", hue=\"Churn\", data=df, ax=axes[1,1])\n",
    "sn.countplot(x=\"DeviceProtection\", hue=\"Churn\", data=df, ax=axes[1,2])\n",
    "sn.countplot(x=\"TechSupport\", hue=\"Churn\", data=df, ax=axes[2,0])\n",
    "sn.countplot(x=\"StreamingTV\", hue=\"Churn\", data=df, ax=axes[2,1])\n",
    "sn.countplot(x=\"StreamingMovies\", hue=\"Churn\", data=df, ax=axes[2,2])\n",
    "\n",
    "plt.tight_layout()\n",
    "plt.show()"
   ]
  },
  {
   "cell_type": "markdown",
   "id": "eba7bc43",
   "metadata": {
    "papermill": {
     "duration": 0.013472,
     "end_time": "2022-08-09T13:33:12.055505",
     "exception": false,
     "start_time": "2022-08-09T13:33:12.042033",
     "status": "completed"
    },
    "tags": []
   },
   "source": [
    "## Account Information"
   ]
  },
  {
   "cell_type": "code",
   "execution_count": 21,
   "id": "346275d2",
   "metadata": {
    "execution": {
     "iopub.execute_input": "2022-08-09T13:33:12.084994Z",
     "iopub.status.busy": "2022-08-09T13:33:12.084576Z",
     "iopub.status.idle": "2022-08-09T13:33:12.122098Z",
     "shell.execute_reply": "2022-08-09T13:33:12.121264Z"
    },
    "papermill": {
     "duration": 0.055281,
     "end_time": "2022-08-09T13:33:12.124449",
     "exception": false,
     "start_time": "2022-08-09T13:33:12.069168",
     "status": "completed"
    },
    "tags": []
   },
   "outputs": [
    {
     "data": {
      "text/html": [
       "<div>\n",
       "<style scoped>\n",
       "    .dataframe tbody tr th:only-of-type {\n",
       "        vertical-align: middle;\n",
       "    }\n",
       "\n",
       "    .dataframe tbody tr th {\n",
       "        vertical-align: top;\n",
       "    }\n",
       "\n",
       "    .dataframe thead th {\n",
       "        text-align: right;\n",
       "    }\n",
       "</style>\n",
       "<table border=\"1\" class=\"dataframe\">\n",
       "  <thead>\n",
       "    <tr style=\"text-align: right;\">\n",
       "      <th></th>\n",
       "      <th>Contract</th>\n",
       "      <th>Churn</th>\n",
       "    </tr>\n",
       "  </thead>\n",
       "  <tbody>\n",
       "    <tr>\n",
       "      <th>0</th>\n",
       "      <td>Month-to-month</td>\n",
       "      <td>0.430774</td>\n",
       "    </tr>\n",
       "    <tr>\n",
       "      <th>1</th>\n",
       "      <td>One year</td>\n",
       "      <td>0.102954</td>\n",
       "    </tr>\n",
       "    <tr>\n",
       "      <th>2</th>\n",
       "      <td>Two year</td>\n",
       "      <td>0.028443</td>\n",
       "    </tr>\n",
       "  </tbody>\n",
       "</table>\n",
       "</div>"
      ],
      "text/plain": [
       "         Contract     Churn\n",
       "0  Month-to-month  0.430774\n",
       "1        One year  0.102954\n",
       "2        Two year  0.028443"
      ]
     },
     "metadata": {},
     "output_type": "display_data"
    },
    {
     "data": {
      "text/html": [
       "<div>\n",
       "<style scoped>\n",
       "    .dataframe tbody tr th:only-of-type {\n",
       "        vertical-align: middle;\n",
       "    }\n",
       "\n",
       "    .dataframe tbody tr th {\n",
       "        vertical-align: top;\n",
       "    }\n",
       "\n",
       "    .dataframe thead th {\n",
       "        text-align: right;\n",
       "    }\n",
       "</style>\n",
       "<table border=\"1\" class=\"dataframe\">\n",
       "  <thead>\n",
       "    <tr style=\"text-align: right;\">\n",
       "      <th></th>\n",
       "      <th>PaperlessBilling</th>\n",
       "      <th>Churn</th>\n",
       "    </tr>\n",
       "  </thead>\n",
       "  <tbody>\n",
       "    <tr>\n",
       "      <th>1</th>\n",
       "      <td>Yes</td>\n",
       "      <td>0.335914</td>\n",
       "    </tr>\n",
       "    <tr>\n",
       "      <th>0</th>\n",
       "      <td>No</td>\n",
       "      <td>0.163884</td>\n",
       "    </tr>\n",
       "  </tbody>\n",
       "</table>\n",
       "</div>"
      ],
      "text/plain": [
       "  PaperlessBilling     Churn\n",
       "1              Yes  0.335914\n",
       "0               No  0.163884"
      ]
     },
     "metadata": {},
     "output_type": "display_data"
    },
    {
     "data": {
      "text/html": [
       "<div>\n",
       "<style scoped>\n",
       "    .dataframe tbody tr th:only-of-type {\n",
       "        vertical-align: middle;\n",
       "    }\n",
       "\n",
       "    .dataframe tbody tr th {\n",
       "        vertical-align: top;\n",
       "    }\n",
       "\n",
       "    .dataframe thead th {\n",
       "        text-align: right;\n",
       "    }\n",
       "</style>\n",
       "<table border=\"1\" class=\"dataframe\">\n",
       "  <thead>\n",
       "    <tr style=\"text-align: right;\">\n",
       "      <th></th>\n",
       "      <th>PaymentMethod</th>\n",
       "      <th>Churn</th>\n",
       "    </tr>\n",
       "  </thead>\n",
       "  <tbody>\n",
       "    <tr>\n",
       "      <th>2</th>\n",
       "      <td>Electronic check</td>\n",
       "      <td>0.459916</td>\n",
       "    </tr>\n",
       "    <tr>\n",
       "      <th>3</th>\n",
       "      <td>Mailed check</td>\n",
       "      <td>0.195552</td>\n",
       "    </tr>\n",
       "    <tr>\n",
       "      <th>0</th>\n",
       "      <td>Bank transfer (automatic)</td>\n",
       "      <td>0.162903</td>\n",
       "    </tr>\n",
       "    <tr>\n",
       "      <th>1</th>\n",
       "      <td>Credit card (automatic)</td>\n",
       "      <td>0.144054</td>\n",
       "    </tr>\n",
       "  </tbody>\n",
       "</table>\n",
       "</div>"
      ],
      "text/plain": [
       "               PaymentMethod     Churn\n",
       "2           Electronic check  0.459916\n",
       "3               Mailed check  0.195552\n",
       "0  Bank transfer (automatic)  0.162903\n",
       "1    Credit card (automatic)  0.144054"
      ]
     },
     "metadata": {},
     "output_type": "display_data"
    }
   ],
   "source": [
    "acc_features = ['tenure','Contract','PaperlessBilling','PaymentMethod','MonthlyCharges','TotalCharges']\n",
    "cat_acc_features = ['Contract','PaperlessBilling','PaymentMethod']\n",
    "num_acc_features = ['tenure','MonthlyCharges','TotalCharges']\n",
    "\n",
    "for feature in cat_acc_features:\n",
    "    cross_table = df_train[[feature,'Churn']].groupby([feature], as_index=False).mean().sort_values(by='Churn', ascending=False)\n",
    "    display(cross_table)"
   ]
  },
  {
   "cell_type": "code",
   "execution_count": 22,
   "id": "9748d38d",
   "metadata": {
    "execution": {
     "iopub.execute_input": "2022-08-09T13:33:12.154332Z",
     "iopub.status.busy": "2022-08-09T13:33:12.153915Z",
     "iopub.status.idle": "2022-08-09T13:33:12.839018Z",
     "shell.execute_reply": "2022-08-09T13:33:12.837714Z"
    },
    "papermill": {
     "duration": 0.704081,
     "end_time": "2022-08-09T13:33:12.842485",
     "exception": false,
     "start_time": "2022-08-09T13:33:12.138404",
     "status": "completed"
    },
    "tags": []
   },
   "outputs": [
    {
     "data": {
      "image/png": "[encoded data removed]",
      "text/plain": [
       "<Figure size 1008x360 with 3 Axes>"
      ]
     },
     "metadata": {
      "needs_background": "light"
     },
     "output_type": "display_data"
    }
   ],
   "source": [
    "fig, axes = plt.subplots(nrows=1, ncols=3, figsize=(14,5))\n",
    "\n",
    "sn.countplot(x=\"Contract\", hue=\"Churn\", data=df, ax=axes[0])\n",
    "sn.countplot(x=\"PaperlessBilling\", hue=\"Churn\", data=df, ax=axes[1])\n",
    "sn.countplot(x=\"PaymentMethod\", hue=\"Churn\", data=df, ax=axes[2])\n",
    "axes[2].set_xticklabels(axes[2].get_xticklabels(), rotation=40, ha=\"right\")\n",
    "\n",
    "plt.tight_layout()\n",
    "plt.show()"
   ]
  },
  {
   "cell_type": "code",
   "execution_count": 23,
   "id": "41259c52",
   "metadata": {
    "execution": {
     "iopub.execute_input": "2022-08-09T13:33:12.876046Z",
     "iopub.status.busy": "2022-08-09T13:33:12.874793Z",
     "iopub.status.idle": "2022-08-09T13:33:13.268912Z",
     "shell.execute_reply": "2022-08-09T13:33:13.267697Z"
    },
    "papermill": {
     "duration": 0.413688,
     "end_time": "2022-08-09T13:33:13.271723",
     "exception": false,
     "start_time": "2022-08-09T13:33:12.858035",
     "status": "completed"
    },
    "tags": []
   },
   "outputs": [
    {
     "data": {
      "image/png": "[encoded data removed]",
      "text/plain": [
       "<Figure size 1080x288 with 3 Axes>"
      ]
     },
     "metadata": {
      "needs_background": "light"
     },
     "output_type": "display_data"
    }
   ],
   "source": [
    "df_churn = df_train.groupby(['Churn'], as_index=False).mean()\n",
    "\n",
    "fig, axes = plt.subplots(nrows=1, ncols=3, figsize=(15,4))\n",
    "for i in range(3):\n",
    "    feature = num_acc_features[i]\n",
    "    sn.barplot(x='Churn',y=feature, data=df_churn, ax=axes[i])\n",
    "    axes[i].set_title(f\"Average {feature}\")\n",
    "    axes[i].set_xlabel(f'Churn')\n",
    "    axes[i].set_ylabel(f\"{feature}\")"
   ]
  },
  {
   "cell_type": "code",
   "execution_count": 24,
   "id": "2c8729e3",
   "metadata": {
    "execution": {
     "iopub.execute_input": "2022-08-09T13:33:13.305166Z",
     "iopub.status.busy": "2022-08-09T13:33:13.304676Z",
     "iopub.status.idle": "2022-08-09T13:33:15.068168Z",
     "shell.execute_reply": "2022-08-09T13:33:15.066914Z"
    },
    "papermill": {
     "duration": 1.783724,
     "end_time": "2022-08-09T13:33:15.070766",
     "exception": false,
     "start_time": "2022-08-09T13:33:13.287042",
     "status": "completed"
    },
    "tags": []
   },
   "outputs": [
    {
     "data": {
      "image/png": "[encoded data removed]",
      "text/plain": [
       "<Figure size 576x288 with 2 Axes>"
      ]
     },
     "metadata": {
      "needs_background": "light"
     },
     "output_type": "display_data"
    },
    {
     "data": {
      "image/png": "[encoded data removed]",
      "text/plain": [
       "<Figure size 576x288 with 2 Axes>"
      ]
     },
     "metadata": {
      "needs_background": "light"
     },
     "output_type": "display_data"
    },
    {
     "data": {
      "image/png": "[encoded data removed]",
      "text/plain": [
       "<Figure size 576x288 with 2 Axes>"
      ]
     },
     "metadata": {
      "needs_background": "light"
     },
     "output_type": "display_data"
    }
   ],
   "source": [
    "for feature in ['tenure','MonthlyCharges','TotalCharges']:\n",
    "    g = sn.FacetGrid(df_train, col='Churn', height=4)\n",
    "    g.map(plt.hist, feature, bins=50)\n",
    "    plt.show()"
   ]
  },
  {
   "cell_type": "code",
   "execution_count": 25,
   "id": "5e1cd743",
   "metadata": {
    "execution": {
     "iopub.execute_input": "2022-08-09T13:33:15.104676Z",
     "iopub.status.busy": "2022-08-09T13:33:15.103956Z",
     "iopub.status.idle": "2022-08-09T13:33:15.584939Z",
     "shell.execute_reply": "2022-08-09T13:33:15.583826Z"
    },
    "papermill": {
     "duration": 0.500998,
     "end_time": "2022-08-09T13:33:15.587750",
     "exception": false,
     "start_time": "2022-08-09T13:33:15.086752",
     "status": "completed"
    },
    "tags": []
   },
   "outputs": [
    {
     "data": {
      "image/png": "[encoded data removed]",
      "text/plain": [
       "<Figure size 1080x360 with 3 Axes>"
      ]
     },
     "metadata": {
      "needs_background": "light"
     },
     "output_type": "display_data"
    }
   ],
   "source": [
    "fig, axes = plt.subplots(nrows=1, ncols=3, figsize=(15,5))\n",
    "for i in range(3):\n",
    "    feature = num_acc_features[i]\n",
    "    sn.boxplot(data=df_train, x='Churn', y=feature, ax=axes[i])\n",
    "plt.tight_layout()\n",
    "plt.show()"
   ]
  },
  {
   "cell_type": "markdown",
   "id": "9eae1dd2",
   "metadata": {
    "papermill": {
     "duration": 0.015904,
     "end_time": "2022-08-09T13:33:15.620101",
     "exception": false,
     "start_time": "2022-08-09T13:33:15.604197",
     "status": "completed"
    },
    "tags": []
   },
   "source": [
    "# Clustering \n",
    "\n",
    "1. **Data Preparation** for clustering\n",
    "2. **K-means** clustering\n",
    "3. Set the clustering labels as a **new feature**"
   ]
  },
  {
   "cell_type": "code",
   "execution_count": 26,
   "id": "6b86c8ba",
   "metadata": {
    "execution": {
     "iopub.execute_input": "2022-08-09T13:33:15.654925Z",
     "iopub.status.busy": "2022-08-09T13:33:15.654186Z",
     "iopub.status.idle": "2022-08-09T13:33:15.728675Z",
     "shell.execute_reply": "2022-08-09T13:33:15.727518Z"
    },
    "papermill": {
     "duration": 0.095238,
     "end_time": "2022-08-09T13:33:15.731577",
     "exception": false,
     "start_time": "2022-08-09T13:33:15.636339",
     "status": "completed"
    },
    "tags": []
   },
   "outputs": [],
   "source": [
    "df_cs = df_train.drop(['customerID'], axis=1).copy()\n",
    "df_cs_test = df_test.drop(['customerID'], axis=1).copy()\n",
    "\n",
    "numerical_index = (df_cs.dtypes != 'object')\n",
    "numerical_features = list(numerical_index[numerical_index].index)\n",
    "\n",
    "categorical_index = (df_cs.dtypes == 'object')\n",
    "categorical_features = list(categorical_index[categorical_index].index)\n",
    "\n",
    "from sklearn.preprocessing import StandardScaler\n",
    "scaler = StandardScaler()\n",
    "df_cs[numerical_features] = scaler.fit_transform(df_cs[numerical_features])\n",
    "df_cs_test[numerical_features] = scaler.transform(df_cs_test[numerical_features])\n",
    "\n",
    "from sklearn.preprocessing import OrdinalEncoder\n",
    "encoder = OrdinalEncoder()\n",
    "df_cs[categorical_features] = encoder.fit_transform(df_cs[categorical_features])\n",
    "df_cs_test[categorical_features] = encoder.transform(df_cs_test[categorical_features])"
   ]
  },
  {
   "cell_type": "code",
   "execution_count": 27,
   "id": "099fa9c1",
   "metadata": {
    "execution": {
     "iopub.execute_input": "2022-08-09T13:33:15.765985Z",
     "iopub.status.busy": "2022-08-09T13:33:15.765528Z",
     "iopub.status.idle": "2022-08-09T13:33:29.907937Z",
     "shell.execute_reply": "2022-08-09T13:33:29.906538Z"
    },
    "papermill": {
     "duration": 14.163179,
     "end_time": "2022-08-09T13:33:29.910722",
     "exception": false,
     "start_time": "2022-08-09T13:33:15.747543",
     "status": "completed"
    },
    "tags": []
   },
   "outputs": [
    {
     "data": {
      "image/png": "[encoded data removed]",
      "text/plain": [
       "<Figure size 432x288 with 1 Axes>"
      ]
     },
     "metadata": {
      "needs_background": "light"
     },
     "output_type": "display_data"
    }
   ],
   "source": [
    "from sklearn.cluster import KMeans\n",
    "\n",
    "num_clusters = list(range(1,10))\n",
    "inertias = []\n",
    "\n",
    "for k in num_clusters:\n",
    "    model = KMeans(n_clusters=k)\n",
    "    model.fit(df_cs)\n",
    "    inertias.append(model.inertia_)\n",
    "\n",
    "plt.plot(num_clusters, inertias, '-o')\n",
    "plt.xlabel('number of clusters (k)')\n",
    "plt.ylabel('inertia')\n",
    "plt.show()"
   ]
  },
  {
   "cell_type": "code",
   "execution_count": 28,
   "id": "53a5ab4c",
   "metadata": {
    "execution": {
     "iopub.execute_input": "2022-08-09T13:33:29.946355Z",
     "iopub.status.busy": "2022-08-09T13:33:29.945757Z",
     "iopub.status.idle": "2022-08-09T13:33:31.675035Z",
     "shell.execute_reply": "2022-08-09T13:33:31.674127Z"
    },
    "papermill": {
     "duration": 1.75007,
     "end_time": "2022-08-09T13:33:31.677530",
     "exception": false,
     "start_time": "2022-08-09T13:33:29.927460",
     "status": "completed"
    },
    "tags": []
   },
   "outputs": [
    {
     "data": {
      "image/png": "[encoded data removed]",
      "text/plain": [
       "<Figure size 432x288 with 1 Axes>"
      ]
     },
     "metadata": {
      "needs_background": "light"
     },
     "output_type": "display_data"
    }
   ],
   "source": [
    "k = 4\n",
    "model = KMeans(n_clusters=k, random_state=0)\n",
    "model.fit(df_cs)\n",
    "train_labels = model.predict(df_cs)\n",
    "test_labels = model.predict(df_cs_test)\n",
    "\n",
    "df_train['cluster'] = train_labels\n",
    "df_test['cluster'] = test_labels\n",
    "sn.countplot(x='Churn', hue=\"cluster\", data=df_train)\n",
    "plt.show()"
   ]
  },
  {
   "cell_type": "code",
   "execution_count": 29,
   "id": "77858a5f",
   "metadata": {
    "execution": {
     "iopub.execute_input": "2022-08-09T13:33:31.714097Z",
     "iopub.status.busy": "2022-08-09T13:33:31.713372Z",
     "iopub.status.idle": "2022-08-09T13:33:31.725979Z",
     "shell.execute_reply": "2022-08-09T13:33:31.725108Z"
    },
    "papermill": {
     "duration": 0.033339,
     "end_time": "2022-08-09T13:33:31.728287",
     "exception": false,
     "start_time": "2022-08-09T13:33:31.694948",
     "status": "completed"
    },
    "tags": []
   },
   "outputs": [
    {
     "data": {
      "text/plain": [
       "0.9863782051282052"
      ]
     },
     "execution_count": 29,
     "metadata": {},
     "output_type": "execute_result"
    }
   ],
   "source": [
    "churn_rate_cluster_3 = df_train[df_train['cluster']==3]['Churn'].sum() / len(df_train[df_train['cluster']==3])\n",
    "churn_rate_cluster_3"
   ]
  },
  {
   "cell_type": "markdown",
   "id": "f9f96abb",
   "metadata": {
    "papermill": {
     "duration": 0.017109,
     "end_time": "2022-08-09T13:33:31.762266",
     "exception": false,
     "start_time": "2022-08-09T13:33:31.745157",
     "status": "completed"
    },
    "tags": []
   },
   "source": [
    "### This cluster column can be used as a new feature when training models."
   ]
  },
  {
   "cell_type": "code",
   "execution_count": null,
   "id": "9b6cdddd",
   "metadata": {},
   "outputs": [],
   "source": []
  }
 ],
 "metadata": {
  "kernelspec": {
   "display_name": "Python 3 (ipykernel)",
   "language": "python",
   "name": "python3"
  },
  "language_info": {
   "codemirror_mode": {
    "name": "ipython",
    "version": 3
   },
   "file_extension": ".py",
   "mimetype": "text/x-python",
   "name": "python",
   "nbconvert_exporter": "python",
   "pygments_lexer": "ipython3",
   "version": "3.9.13"
  },
  "papermill": {
   "default_parameters": {},
   "duration": 36.031274,
   "end_time": "2022-08-09T13:33:32.702382",
   "environment_variables": {},
   "exception": null,
   "input_path": "__notebook__.ipynb",
   "output_path": "__notebook__.ipynb",
   "parameters": {},
   "start_time": "2022-08-09T13:32:56.671108",
   "version": "2.3.4"
  }
 },
 "nbformat": 4,
 "nbformat_minor": 5
}
